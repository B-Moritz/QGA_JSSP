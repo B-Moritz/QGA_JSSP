{
 "cells": [
  {
   "cell_type": "markdown",
   "metadata": {},
   "source": [
    "### Operation based representation\n",
    "\n",
    "A permutation is used to \n",
    "\n",
    "The paper by (Gen et al., 1994) use a operation based representation and also call it indirect. \n",
    "\n",
    "Survey of different representations classified in direct and indirect representations:\n",
    "(Cheng et al., 1996)\n",
    "\n",
    "Example problem for this notebook:\n",
    "\n",
    "\n",
    "3 x 3 JSSP problem:\n",
    "\n",
    "j1 2(1), 3(5), 1(2) \\\n",
    "j2 1(3), 2(3), 3(5) \\\n",
    "j3 1(2), 3(2), 2(4) "
   ]
  },
  {
   "cell_type": "code",
   "execution_count": 73,
   "metadata": {},
   "outputs": [],
   "source": [
    "import numpy as np\n",
    "import pandas as pd\n",
    "import copy\n",
    "import matplotlib.pyplot as plt\n",
    "import matplotlib.patches as mpatches\n",
    "import matplotlib.ticker as ticker\n",
    "from typing import List\n",
    "\n",
    "n_machines = 3\n",
    "n_jobs = 3\n",
    "jssp_problem = np.array([\n",
    "          # Technological sequence. Each row represents one job J. Each column represents the operation index.\n",
    "          [[2, 3, 1],\n",
    "           [1, 2, 3],\n",
    "           [1, 3, 2]],\n",
    "          # The second matrix contains the processing time\n",
    "          [[1, 5, 2],\n",
    "           [3, 3, 5],\n",
    "           [2, 2, 4]]\n",
    "\n",
    "])\n",
    "\n",
    "def plot_gnatt_chart(operation_list):\n",
    "    op_list = []\n",
    "    for op in operation_list:\n",
    "        op_list.append({\"Task\" : \"M\" + str(op.machine), \"start_time\" : op.start, \"stop_time\" : op.start + op.duration, \"operation\" : \"O_\" + str(op.job) + \",\" + str(op.machine)})\n",
    "\n",
    "    df = pd.DataFrame(op_list)\n",
    "    fig, ax = plt.subplots(1,1, figsize=(10, 10))\n",
    "    start_time = 0\n",
    "    stop_time = df[\"stop_time\"].max()\n",
    "    n_rows = df[\"Task\"].unique().shape[0]\n",
    "    color_dict = {i : np.random.randint(0, 256, 3) for i in range(0, n_rows)}\n",
    "    # Initiate all cells to white (255, 255, 255)\n",
    "    image = np.ones((n_rows, int(stop_time), 3), dtype=int) * 255\n",
    "    for operation in op_list:\n",
    "        cur_job = int(operation[\"operation\"][2])\n",
    "        machine_number = int(operation[\"Task\"][-1])\n",
    "        image[machine_number][int(operation[\"start_time\"]) : int(operation[\"stop_time\"])][:] = color_dict[cur_job]\n",
    "\n",
    "    # Create color patches\n",
    "    handlers = []\n",
    "    for i, color in color_dict.items():\n",
    "        handlers.append(mpatches.Patch(color=color/255, label=f'$Job\\;{i}$'))\n",
    "\n",
    "    box = ax.get_position()\n",
    "    ax.set_position([box.x0, box.y0, box.width * 0.8, box.height])\n",
    "\n",
    "    # Put a legend to the right of the current axis\n",
    "    ax.legend(handles=handlers, loc='center left', bbox_to_anchor=(1, 0.5))\n",
    "\n",
    "    ax.set_title(\"Schedule Gantt Chart\")\n",
    "    ax.set_yticks([0,1,2])\n",
    "    ax.set_yticklabels([\"M1\", \"M2\", \"M3\"])\n",
    "\n",
    "    ax.set_xticks([0, 1, 2, 3, 4, 5, 6, 7, 8, 9, 10, 11, 12, 13, 14, 15, 16, 17, 18])\n",
    "\n",
    "    ax.imshow(image)\n",
    "    #plt.rcParams['axes.autolimit_mode'] = 'round_numbers'\n",
    "    plt.show()"
   ]
  },
  {
   "cell_type": "markdown",
   "metadata": {},
   "source": [
    "First we need to create the permutation with m repetitions"
   ]
  },
  {
   "cell_type": "code",
   "execution_count": 74,
   "metadata": {},
   "outputs": [
    {
     "name": "stdout",
     "output_type": "stream",
     "text": [
      "[1 2 0 2 0 1 1 0 2]\n"
     ]
    }
   ],
   "source": [
    "indexes = np.random.permutation(n_machines*n_jobs)\n",
    "j_rep_permutation = np.empty_like(indexes)\n",
    "\n",
    "for i in range(len(indexes)):\n",
    "    # For each element in the array, insert a job number in the j repetition permutation\n",
    "    cur_index = indexes[i]\n",
    "    j_rep_permutation[cur_index] = i % n_jobs\n",
    "\n",
    "print(j_rep_permutation)"
   ]
  },
  {
   "cell_type": "code",
   "execution_count": 75,
   "metadata": {},
   "outputs": [],
   "source": [
    "class Operation:\n",
    "    def __init__(self, job, machine, duration, start):\n",
    "        self.job = job\n",
    "        self.machine = machine\n",
    "        self.duration = duration\n",
    "        self.start = start\n",
    "\n",
    "    def get_completion_time(self):\n",
    "        return self.start + self.duration\n",
    "\n",
    "    def __str__(self):\n",
    "        return f\"Operation_{self.job}_{self.machine}\""
   ]
  },
  {
   "cell_type": "markdown",
   "metadata": {},
   "source": [
    "In the following cell the operation based approach presented by (Bierwirth, 1995) is implemented. it produces semi-active schedules."
   ]
  },
  {
   "cell_type": "code",
   "execution_count": 76,
   "metadata": {},
   "outputs": [],
   "source": [
    "# The finished schedule is stored in the following list\n",
    "operation_list = np.empty(n_machines*n_jobs, dtype=Operation)\n",
    "# The machine and job time counters used to determine the start time for the next operations\n",
    "m_start_t = np.zeros(n_machines)\n",
    "j_start_t = np.zeros(n_jobs)\n",
    "# machine sequence counter to determine which machine is next for each job\n",
    "T_counter = np.zeros(n_machines, dtype=int)\n",
    "\n",
    "for k in range(len(j_rep_permutation)):\n",
    "    # For each job number in the permutation, shcedule it at the first possible time\n",
    "    cur_job = j_rep_permutation[k]\n",
    "    # Find the next machine in the technological sequence\n",
    "    cur_machine = jssp_problem[0][cur_job][T_counter[cur_job]] - 1\n",
    "    # First determine which machine the job should be \n",
    "    if m_start_t[cur_machine] >= j_start_t[cur_job]:\n",
    "        cur_start = m_start_t[cur_machine]\n",
    "    else:\n",
    "        cur_start = j_start_t[cur_job]\n",
    "\n",
    "    cur_duration = jssp_problem[1][cur_job][T_counter[cur_job]]\n",
    "    m_start_t[cur_machine] = cur_start + cur_duration\n",
    "    j_start_t[cur_job] = cur_start + cur_duration\n",
    "\n",
    "    operation_list[k] = Operation(cur_job, cur_machine, cur_duration, cur_start)\n",
    "    # Increment the mahcine counter\n",
    "    T_counter[cur_job] += 1"
   ]
  },
  {
   "cell_type": "markdown",
   "metadata": {},
   "source": [
    "Plotting gnatt chart for the solution"
   ]
  },
  {
   "cell_type": "code",
   "execution_count": 77,
   "metadata": {},
   "outputs": [
    {
     "data": {
      "image/png": "[encoded data removed]",
      "text/plain": [
       "<Figure size 1000x1000 with 1 Axes>"
      ]
     },
     "metadata": {},
     "output_type": "display_data"
    }
   ],
   "source": [
    "plot_gnatt_chart(operation_list)"
   ]
  },
  {
   "cell_type": "markdown",
   "metadata": {},
   "source": [
    "The  hybrid G&T presented in (Varela et al., 2005)"
   ]
  },
  {
   "cell_type": "code",
   "execution_count": 78,
   "metadata": {},
   "outputs": [],
   "source": [
    "# Input is the operation sequence, the technical sequence and the duration matrix\n",
    "active_schedule = []\n",
    "# Making a copy of the semi activve schedule\n",
    "semi_active_schedule = copy.deepcopy(operation_list.tolist())\n",
    "# Initiating the timing lists for machine and job\n",
    "m_time = np.zeros(n_machines)\n",
    "j_time = np.zeros(n_jobs)\n",
    "\n",
    "T_counter = np.zeros(n_jobs, dtype=int)\n",
    "next_operations = []\n",
    "while len(semi_active_schedule) > 0 or len(next_operations) > 0:\n",
    "    # Need to find the operation with the lowest completion time among the set of scheduable operations\n",
    "\n",
    "    # Extract the next operations in the technological sequences    \n",
    "    for i, operation in enumerate(semi_active_schedule):\n",
    "        if jssp_problem[0][operation.job][T_counter[operation.job]]-1 == operation.machine:\n",
    "            # if the mahcine number matches the next machine in the corresponding technical sequence, then select the operation for processing\n",
    "            next_operations.append(semi_active_schedule.pop(i))\n",
    "\n",
    "    cur_best_index_k = 0\n",
    "    cur_lowest_complete_time = 0\n",
    "    # Extract the start and comlpetion time for the first operation in the list\n",
    "    lowest_start_time_i  = np.max([m_time[next_operations[0].machine], j_time[next_operations[0].job]])\n",
    "    cur_lowest_complete_time = lowest_start_time_i + next_operations[0].duration\n",
    "\n",
    "    # Loop to find the lowest completion time\n",
    "    for i in range(1, len(next_operations)):\n",
    "        # For each operation, find the lowest start time and the completion time\n",
    "        lowest_start_time_i  = np.max([m_time[next_operations[i].machine], j_time[next_operations[i].job]])\n",
    "        completion_i = lowest_start_time_i + next_operations[i].duration\n",
    "        \n",
    "        if completion_i < cur_lowest_complete_time:\n",
    "            # Update the lowest completion time if it is lower than the current lowest\n",
    "            cur_lowest_complete_time = completion_i\n",
    "            # store the index of the operation\n",
    "            cur_best_index_k = i\n",
    "\n",
    "\n",
    "    found_lowest_completion_time = cur_lowest_complete_time\n",
    "    machine_k = next_operations[cur_best_index_k].machine\n",
    "\n",
    "    overall_best_index = 0\n",
    "    overall_lowest_start_time = np.max([m_time[next_operations[overall_best_index].machine], j_time[next_operations[overall_best_index].job]])\n",
    "    for operation_index in range(1, len(next_operations)):\n",
    "        if next_operations[operation_index].machine == machine_k:\n",
    "            # If the current operation is for machine_k, find the lowest starting time \n",
    "            lowest_start_time_i  = np.max([m_time[next_operations[operation_index].machine], j_time[next_operations[operation_index].job]])\n",
    "            if (lowest_start_time_i < found_lowest_completion_time) & (overall_lowest_start_time > lowest_start_time_i):\n",
    "                # If the starting time is lower than the the lowest completion time and the start time is lower than the previous lowest start time\n",
    "                # Store index and start time for that operation\n",
    "                overall_best_index = operation_index\n",
    "                overall_lowest_start_time = lowest_start_time_i\n",
    "            \n",
    "    # Scedule the selected operation\n",
    "    selected_operation = next_operations.pop(overall_best_index)\n",
    "    selected_operation.start = overall_lowest_start_time\n",
    "    m_time[selected_operation.machine] = selected_operation.get_completion_time()\n",
    "    j_time[selected_operation.job] = selected_operation.get_completion_time()\n",
    "    T_counter[selected_operation.job] += 1\n",
    "    active_schedule.append(selected_operation)"
   ]
  },
  {
   "cell_type": "code",
   "execution_count": 80,
   "metadata": {},
   "outputs": [
    {
     "data": {
      "image/png": "[encoded data removed]",
      "text/plain": [
       "<Figure size 1000x1000 with 1 Axes>"
      ]
     },
     "metadata": {},
     "output_type": "display_data"
    }
   ],
   "source": [
    "plot_gnatt_chart(operation_list)"
   ]
  },
  {
   "cell_type": "code",
   "execution_count": 81,
   "metadata": {},
   "outputs": [
    {
     "data": {
      "image/png": "[encoded data removed]",
      "text/plain": [
       "<Figure size 1000x1000 with 1 Axes>"
      ]
     },
     "metadata": {},
     "output_type": "display_data"
    }
   ],
   "source": [
    "plot_gnatt_chart(active_schedule)"
   ]
  },
  {
   "cell_type": "markdown",
   "metadata": {},
   "source": [
    "Create the permutation with m repretitions"
   ]
  },
  {
   "cell_type": "markdown",
   "metadata": {},
   "source": [
    "References:\n",
    "\n",
    "* Gen, M., Tsujimura, Y., & Kubota, E. (1994). Solving job-shop scheduling problems by genetic algorithm. Proceedings of IEEE International Conference on Systems, Man and Cybernetics, 2, 1577–1582 vol.2. https://doi.org/10.1109/ICSMC.1994.400072\n",
    "\n",
    "* Bierwirth, C. (1995). A generalized permutation approach to job shop scheduling with genetic algorithms. Operations-Research-Spektrum, 17(2), 87–92. https://doi.org/10.1007/BF01719250\n",
    "\n",
    "* Cheng, R., Gen, M., & Tsujimura, Y. (1996). A tutorial survey of job-shop scheduling problems using genetic algorithms—I. representation. Computers & Industrial Engineering, 30(4), 983–997. https://doi.org/10.1016/0360-8352(96)00047-2\n",
    "\n",
    "* Varela, R., Serrano, D., & Sierra, M. (2005). New Codification Schemas for Scheduling with Genetic Algorithms. In J. Mira & J. R. Álvarez (Eds.), Artificial Intelligence and Knowledge Engineering Applications: A Bioinspired Approach (pp. 11–20). Springer. https://doi.org/10.1007/11499305_2\n"
   ]
  },
  {
   "cell_type": "markdown",
   "metadata": {},
   "source": []
  }
 ],
 "metadata": {
  "kernelspec": {
   "display_name": ".venv",
   "language": "python",
   "name": "python3"
  },
  "language_info": {
   "codemirror_mode": {
    "name": "ipython",
    "version": 3
   },
   "file_extension": ".py",
   "mimetype": "text/x-python",
   "name": "python",
   "nbconvert_exporter": "python",
   "pygments_lexer": "ipython3",
   "version": "3.9.13"
  }
 },
 "nbformat": 4,
 "nbformat_minor": 2
}
