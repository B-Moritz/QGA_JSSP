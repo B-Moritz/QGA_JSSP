{
 "cells": [
  {
   "cell_type": "markdown",
   "metadata": {},
   "source": [
    "# Understanding the binary JSSP representation"
   ]
  },
  {
   "cell_type": "markdown",
   "metadata": {},
   "source": [
    "This representation was presented by Ryohei Nakano and Takeshi Yamada in the paper (Nakano & Yamada, 1991).\n",
    "\n",
    "3 x 3 JSSP problem:\n",
    "\n",
    "j1 2(1), 3(5), 1(2) \\\n",
    "j2 1(3), 2(3), 3(5) \\\n",
    "j3 1(2), 3(2), 2(4) "
   ]
  },
  {
   "cell_type": "markdown",
   "metadata": {},
   "source": [
    "We have nm(n-1)/2 binary strings"
   ]
  },
  {
   "cell_type": "code",
   "execution_count": 700,
   "metadata": {},
   "outputs": [],
   "source": [
    "import numpy as np\n",
    "import matplotlib.pyplot as plt\n",
    "import matplotlib.patches as mpatches\n",
    "import matplotlib.ticker as ticker\n",
    "import pandas as pd\n",
    "import copy\n",
    "import pdb"
   ]
  },
  {
   "cell_type": "code",
   "execution_count": 671,
   "metadata": {},
   "outputs": [],
   "source": [
    "# Defining technological sequences for each job\n",
    "tech_seq = np.array([[2, 3, 1], \n",
    "                     [1, 2, 3], \n",
    "                     [1, 3, 2]], dtype=int)"
   ]
  },
  {
   "cell_type": "code",
   "execution_count": 672,
   "metadata": {},
   "outputs": [],
   "source": [
    "# Operation matrix - elements are time, columns are machines, rows are jobs\n",
    "operation_mat = np.array([[2, 1, 5], \n",
    "                          [3, 3, 5], \n",
    "                          [2, 4, 2]], dtype=int)\n"
   ]
  },
  {
   "cell_type": "code",
   "execution_count": 673,
   "metadata": {},
   "outputs": [],
   "source": [
    "n_jobs = 3\n",
    "n_machines = 3\n",
    "bit_strings = np.random.randint(0, 2, (int(n_jobs*(n_jobs-1)/2), n_machines))"
   ]
  },
  {
   "cell_type": "markdown",
   "metadata": {},
   "source": [
    "Applying local harmonization"
   ]
  },
  {
   "cell_type": "code",
   "execution_count": 674,
   "metadata": {},
   "outputs": [
    {
     "data": {
      "text/plain": [
       "array([[0, 1, 1],\n",
       "       [0, 0, 1],\n",
       "       [0, 1, 0]])"
      ]
     },
     "execution_count": 674,
     "metadata": {},
     "output_type": "execute_result"
    }
   ],
   "source": [
    "bit_strings"
   ]
  },
  {
   "cell_type": "code",
   "execution_count": 675,
   "metadata": {},
   "outputs": [
    {
     "data": {
      "text/plain": [
       "array([1, 2, 3])"
      ]
     },
     "execution_count": 675,
     "metadata": {},
     "output_type": "execute_result"
    }
   ],
   "source": [
    "np.arange(1, n_jobs+1, dtype=int)"
   ]
  },
  {
   "cell_type": "code",
   "execution_count": 676,
   "metadata": {},
   "outputs": [],
   "source": [
    "def local_harmonization(cur_priority_mat : np.ndarray):\n",
    "    # Copy the priority matrix for further processing\n",
    "    temp_machine_matrix = copy.deepcopy(cur_priority_mat)\n",
    "    n_jobs = cur_priority_mat.shape[0]\n",
    "    # prepare array for holding the machine order\n",
    "    machine_order = np.zeros(n_jobs)\n",
    "    job_tracker = np.arange(1, n_jobs+1, dtype=int)\n",
    "    for cur_jobnumber in range(1, n_jobs+1):\n",
    "        # For each job in the machine sequence - eliminate the job with least priority\n",
    "        # Sum each row to get a vector where the smallest element represent least priority\n",
    "        current_sum = np.sum(temp_machine_matrix, axis=1)\n",
    "        # The indexes of the least priority jobs\n",
    "        temp_indexes = np.arange(0, temp_machine_matrix.shape[0])[np.min(current_sum) == current_sum]\n",
    "        # Picking a random index\n",
    "        cur_choise = np.random.choice(temp_indexes)\n",
    "        # extracting current bit string based on choice\n",
    "        cur_bitstring = temp_machine_matrix[cur_choise] \n",
    "        for i, k in enumerate(cur_bitstring):\n",
    "            # For each bit check if it is value 1\n",
    "            if k == 1:\n",
    "                # Make the swap\n",
    "                temp_machine_matrix[i, cur_choise] = 1\n",
    "                temp_machine_matrix[cur_choise, i] = 0\n",
    "        # The least priorized job has now 0 outgoing arcs\n",
    "\n",
    "        # creating mask to remove the least priorized job for next iteration\n",
    "        bool_mask = np.ones(temp_machine_matrix.shape[0], dtype=bool)\n",
    "        bool_mask[cur_choise] = False\n",
    "        # Remove row and column\n",
    "        temp_machine_matrix = temp_machine_matrix[bool_mask, :][:, bool_mask]\n",
    "        # Update machine sequence by finding the original index of the chosen index\n",
    "        job_number = job_tracker[cur_choise]\n",
    "        job_tracker = job_tracker[bool_mask]\n",
    "\n",
    "        # The removed job is appended to the reversed machine sequence array\n",
    "        machine_order[-cur_jobnumber] = job_number\n",
    "\n",
    "    return machine_order"
   ]
  },
  {
   "cell_type": "code",
   "execution_count": 677,
   "metadata": {},
   "outputs": [
    {
     "name": "stdout",
     "output_type": "stream",
     "text": [
      "Converting the following priority matrix as M0:\n",
      "[[0. 0. 0.]\n",
      " [1. 0. 0.]\n",
      " [1. 1. 0.]]\n",
      "Result:\n",
      "[3. 2. 1.]\n",
      "Converting the following priority matrix as M1:\n",
      "[[0. 1. 1.]\n",
      " [0. 0. 0.]\n",
      " [0. 1. 0.]]\n",
      "Result:\n",
      "[1. 3. 2.]\n",
      "Converting the following priority matrix as M2:\n",
      "[[0. 1. 0.]\n",
      " [0. 0. 1.]\n",
      " [1. 0. 0.]]\n",
      "Result:\n",
      "[3. 1. 2.]\n"
     ]
    }
   ],
   "source": [
    "# We first need to create the priority matrix of each machine\n",
    "pair_mapping = {0:[0, 1], 1:[1, 2], 2:[0, 2]}\n",
    "machine_list = []\n",
    "for m in range(n_machines):\n",
    "    cur_priority_mat = np.zeros((3,3))\n",
    "    for i, job_pair in enumerate(bit_strings):\n",
    "        cur_priority_mat[pair_mapping[i][0]][pair_mapping[i][1]] = job_pair[m]\n",
    "        cur_priority_mat[pair_mapping[i][1]][pair_mapping[i][0]] = 0 if job_pair[m] == 1 else 1 \n",
    "\n",
    "    print(f\"Converting the following priority matrix as M{m}:\")\n",
    "    print(cur_priority_mat)\n",
    "    converted_list = local_harmonization(cur_priority_mat)\n",
    "    print(\"Result:\")\n",
    "    print(converted_list)\n",
    "    machine_list.append(converted_list)"
   ]
  },
  {
   "cell_type": "code",
   "execution_count": 678,
   "metadata": {},
   "outputs": [
    {
     "data": {
      "text/plain": [
       "array([[3, 2, 1],\n",
       "       [1, 3, 2],\n",
       "       [3, 1, 2]])"
      ]
     },
     "execution_count": 678,
     "metadata": {},
     "output_type": "execute_result"
    }
   ],
   "source": [
    "complete_machine_ordering = np.concatenate(machine_list, axis=0).reshape(n_machines, n_jobs).astype(int)\n",
    "complete_machine_ordering"
   ]
  },
  {
   "cell_type": "code",
   "execution_count": 679,
   "metadata": {},
   "outputs": [
    {
     "data": {
      "text/plain": [
       "array([[3, 2, 1],\n",
       "       [1, 3, 2],\n",
       "       [3, 1, 2]])"
      ]
     },
     "execution_count": 679,
     "metadata": {},
     "output_type": "execute_result"
    }
   ],
   "source": [
    "complete_machine_ordering"
   ]
  },
  {
   "cell_type": "code",
   "execution_count": 680,
   "metadata": {},
   "outputs": [
    {
     "name": "stdout",
     "output_type": "stream",
     "text": [
      "[3 2 1]\n",
      "[1 3 2]\n",
      "[3 1 2]\n"
     ]
    }
   ],
   "source": [
    "for i in complete_machine_ordering:\n",
    "    print(i)"
   ]
  },
  {
   "cell_type": "markdown",
   "metadata": {},
   "source": [
    "Currently there is still a posibility of global inconsistecies between the machine orderings and the technical sequences.\n",
    "This is demonstrated by the following gnatt diagram:"
   ]
  },
  {
   "cell_type": "code",
   "execution_count": 681,
   "metadata": {},
   "outputs": [
    {
     "name": "stdout",
     "output_type": "stream",
     "text": [
      "9\n",
      "Appending original\n",
      "8\n",
      "Trying to correct\n",
      "[3 2 1]\n",
      "[3 2 1]\n",
      "cur_job2\n",
      "Before permutation: [3 2 1]\n",
      "After permutation: [2 3 1]\n",
      "Appending corrected\n",
      "7\n",
      "Trying to correct\n",
      "[3 1 2]\n",
      "[3 1 2]\n",
      "cur_job1\n",
      "Before permutation: [3 1 2]\n",
      "After permutation: [1 3 2]\n",
      "Appending corrected\n",
      "6\n",
      "Trying to correct\n",
      "[1 3 2]\n",
      "[3 2]\n",
      "cur_job2\n",
      "Before permutation: [1 3 2]\n",
      "After permutation: [1 2 3]\n",
      "Appending corrected\n",
      "5\n",
      "Appending original\n",
      "4\n",
      "Appending original\n",
      "3\n",
      "Trying to correct\n",
      "[1 3 2]\n",
      "[3 2]\n",
      "cur_job2\n",
      "Before permutation: [1 3 2]\n",
      "After permutation: [1 2 3]\n",
      "Appending corrected\n",
      "2\n",
      "Appending original\n",
      "1\n",
      "Appending original\n",
      "0\n"
     ]
    },
    {
     "data": {
      "text/plain": [
       "[{'Task': 'M2', 'start_time': 0, 'stop_time': 1, 'operation': 'O_1,2'},\n",
       " {'Task': 'M1', 'start_time': 0, 'stop_time': 3, 'operation': 'O_2,1'},\n",
       " {'Task': 'M3', 'start_time': 1, 'stop_time': 6, 'operation': 'O_1,3'},\n",
       " {'Task': 'M2', 'start_time': 3, 'stop_time': 6, 'operation': 'O_2,2'},\n",
       " {'Task': 'M1', 'start_time': 3, 'stop_time': 5, 'operation': 'O_3,1'},\n",
       " {'Task': 'M1', 'start_time': 6, 'stop_time': 8, 'operation': 'O_1,1'},\n",
       " {'Task': 'M3', 'start_time': 6, 'stop_time': 11, 'operation': 'O_2,3'},\n",
       " {'Task': 'M3', 'start_time': 11, 'stop_time': 13, 'operation': 'O_3,3'},\n",
       " {'Task': 'M2', 'start_time': 13, 'stop_time': 17, 'operation': 'O_3,2'}]"
      ]
     },
     "execution_count": 681,
     "metadata": {},
     "output_type": "execute_result"
    }
   ],
   "source": [
    "class Operation:\n",
    "    def __init__(self, duration : int, machine : object, job : object) -> None:\n",
    "        self.duration = duration\n",
    "        self.machine = machine\n",
    "        self.job = job\n",
    "\n",
    "class Job:\n",
    "    def __init__(self, id : int, n_operations : int) -> None:\n",
    "        self.id = id\n",
    "        self.operation_counter = 0\n",
    "        self.free_at_timestep = 0\n",
    "        self.operation_list = np.empty(n_operations, dtype=Operation)\n",
    "\n",
    "    def set_operation(self, operation : Operation, m : int):\n",
    "        self.operation_list[m] = operation\n",
    "\n",
    "    def get_next_operation(self):\n",
    "        return self.operation_list[self.operation_counter]\n",
    "\n",
    "    def increment_counter(self):\n",
    "        self.operation_counter += 1\n",
    "\n",
    "    def is_scheduled(self):\n",
    "        return self.operation_counter >= len(self.operation_list)\n",
    "\n",
    "class Machine:\n",
    "    def __init__(self, id : int, machine_ordering : np.ndarray) -> None:\n",
    "        self.id = id\n",
    "        self.operation_counter = 0\n",
    "        self.machine_ordering = machine_ordering\n",
    "        self.free_at = 0\n",
    "\n",
    "    def get_next_operation(self):\n",
    "        return self.machine_ordering[self.operation_counter]\n",
    "\n",
    "    def permute_order(self, target):\n",
    "        print(\"Before permutation: \" + str(self.machine_ordering))\n",
    "        temp = self.machine_ordering[self.operation_counter]\n",
    "        self.machine_ordering[self.operation_counter] = self.machine_ordering[target]\n",
    "        \n",
    "        for i in range(self.operation_counter+1, target):\n",
    "            next_temp = self.machine_ordering[i]\n",
    "            self.machine_ordering[i] = temp\n",
    "            temp = next_temp\n",
    "\n",
    "        self.machine_ordering[target] = temp\n",
    "        print(\"After permutation: \" + str(self.machine_ordering))\n",
    "\n",
    "    def increment_counter(self):\n",
    "        self.operation_counter += 1\n",
    "\n",
    "\n",
    "class Schedule:\n",
    "    def __init__(self, jobs, machines):\n",
    "        self.jobs = jobs\n",
    "        self.machines = machines\n",
    "        self.time_step = 0\n",
    "        self.gnatt_list = []\n",
    "        self.total_operations = len(jobs) * len(machines)\n",
    "        print(self.total_operations)\n",
    "\n",
    "    def schedule_operations(self):\n",
    "        while True:\n",
    "            for job in self.jobs:\n",
    "                # For each job, check if it can be scheduled\n",
    "                # Is it locked?\n",
    "                if job.free_at_timestep <= self.time_step and not job.is_scheduled():\n",
    "                    # The job is free for scheduling\n",
    "                    # Check if the next operation of job matches the next operation of the machine\n",
    "                    next_operation = job.get_next_operation()\n",
    "                    cur_machine = next_operation.machine\n",
    "                    if cur_machine.free_at <= self.time_step:\n",
    "                        if job.id == cur_machine.get_next_operation():\n",
    "                            # The next job matches for the machine priority list\n",
    "                            # Next the job is scheduled on the coresponding machine\n",
    "                            print(\"Appending original\")\n",
    "                            self.gnatt_list.append({\n",
    "                                                \"Task\" : f\"M{cur_machine.id}\", \n",
    "                                                \"start_time\" : self.time_step, \n",
    "                                                \"stop_time\" : self.time_step + next_operation.duration,\n",
    "                                                \"operation\" : f\"O_{job.id},{cur_machine.id}\"})                   \n",
    "                        else:\n",
    "                            print(\"Trying to correct\")\n",
    "                            print(cur_machine.machine_ordering)\n",
    "                            print(cur_machine.machine_ordering[cur_machine.operation_counter:])\n",
    "                            print(\"cur_job\" + str(job.id))\n",
    "                            # There is a global conflict\n",
    "                            # find the operation that can be scheduled for this job\n",
    "                            for i, j in enumerate(cur_machine.machine_ordering[cur_machine.operation_counter:]):\n",
    "                                if j ==  job.id:\n",
    "                                    # Permute machine priority\n",
    "                                    cur_machine.permute_order(cur_machine.operation_counter + i)\n",
    "                                    print(\"Appending corrected\")\n",
    "                                    self.gnatt_list.append({\n",
    "                                                \"Task\" : f\"M{cur_machine.id}\", \n",
    "                                                \"start_time\" : self.time_step, \n",
    "                                                \"stop_time\" : self.time_step + next_operation.duration,\n",
    "                                                \"operation\" : f\"O_{job.id},{cur_machine.id}\"})\n",
    "                        \n",
    "                        job.free_at_timestep = self.time_step + next_operation.duration\n",
    "                        cur_machine.free_at = self.time_step + next_operation.duration\n",
    "                        cur_machine.increment_counter()\n",
    "                        job.increment_counter()\n",
    "                        self.total_operations -= 1\n",
    "                        print(self.total_operations)\n",
    "\n",
    "            if self.total_operations <= 0:\n",
    "                break\n",
    "            \n",
    "            self.time_step += 1\n",
    "            \n",
    "\n",
    "                    \n",
    "\n",
    "\n",
    "# Create job and machine objects\n",
    "jobs = []\n",
    "machines = []\n",
    "for i, operations in enumerate(tech_seq):\n",
    "    jobs.append(Job(i+1, len(operations)))\n",
    "\n",
    "for m, machine_ordering in enumerate(complete_machine_ordering):\n",
    "    machines.append(Machine(m+1, machine_ordering))\n",
    "\n",
    "for j, cur_tech_seq in enumerate(tech_seq):\n",
    "    for place, m in enumerate(cur_tech_seq):\n",
    "        cur_operation = Operation(operation_mat[j, m-1], machines[m-1], jobs[j])\n",
    "        jobs[j].set_operation(cur_operation, place)\n",
    "\n",
    "cur_schedule = Schedule(jobs, machines)\n",
    "cur_schedule.schedule_operations()\n",
    "cur_schedule.gnatt_list\n"
   ]
  },
  {
   "cell_type": "code",
   "execution_count": 682,
   "metadata": {},
   "outputs": [
    {
     "data": {
      "text/html": [
       "<div>\n",
       "<style scoped>\n",
       "    .dataframe tbody tr th:only-of-type {\n",
       "        vertical-align: middle;\n",
       "    }\n",
       "\n",
       "    .dataframe tbody tr th {\n",
       "        vertical-align: top;\n",
       "    }\n",
       "\n",
       "    .dataframe thead th {\n",
       "        text-align: right;\n",
       "    }\n",
       "</style>\n",
       "<table border=\"1\" class=\"dataframe\">\n",
       "  <thead>\n",
       "    <tr style=\"text-align: right;\">\n",
       "      <th></th>\n",
       "      <th>Task</th>\n",
       "      <th>start_time</th>\n",
       "      <th>stop_time</th>\n",
       "      <th>operation</th>\n",
       "    </tr>\n",
       "  </thead>\n",
       "  <tbody>\n",
       "    <tr>\n",
       "      <th>0</th>\n",
       "      <td>M2</td>\n",
       "      <td>0</td>\n",
       "      <td>1</td>\n",
       "      <td>O_1,2</td>\n",
       "    </tr>\n",
       "    <tr>\n",
       "      <th>1</th>\n",
       "      <td>M1</td>\n",
       "      <td>0</td>\n",
       "      <td>3</td>\n",
       "      <td>O_2,1</td>\n",
       "    </tr>\n",
       "    <tr>\n",
       "      <th>2</th>\n",
       "      <td>M3</td>\n",
       "      <td>1</td>\n",
       "      <td>6</td>\n",
       "      <td>O_1,3</td>\n",
       "    </tr>\n",
       "    <tr>\n",
       "      <th>3</th>\n",
       "      <td>M2</td>\n",
       "      <td>3</td>\n",
       "      <td>6</td>\n",
       "      <td>O_2,2</td>\n",
       "    </tr>\n",
       "    <tr>\n",
       "      <th>4</th>\n",
       "      <td>M1</td>\n",
       "      <td>3</td>\n",
       "      <td>5</td>\n",
       "      <td>O_3,1</td>\n",
       "    </tr>\n",
       "    <tr>\n",
       "      <th>5</th>\n",
       "      <td>M1</td>\n",
       "      <td>6</td>\n",
       "      <td>8</td>\n",
       "      <td>O_1,1</td>\n",
       "    </tr>\n",
       "    <tr>\n",
       "      <th>6</th>\n",
       "      <td>M3</td>\n",
       "      <td>6</td>\n",
       "      <td>11</td>\n",
       "      <td>O_2,3</td>\n",
       "    </tr>\n",
       "    <tr>\n",
       "      <th>7</th>\n",
       "      <td>M3</td>\n",
       "      <td>11</td>\n",
       "      <td>13</td>\n",
       "      <td>O_3,3</td>\n",
       "    </tr>\n",
       "    <tr>\n",
       "      <th>8</th>\n",
       "      <td>M2</td>\n",
       "      <td>13</td>\n",
       "      <td>17</td>\n",
       "      <td>O_3,2</td>\n",
       "    </tr>\n",
       "  </tbody>\n",
       "</table>\n",
       "</div>"
      ],
      "text/plain": [
       "  Task  start_time  stop_time operation\n",
       "0   M2           0          1     O_1,2\n",
       "1   M1           0          3     O_2,1\n",
       "2   M3           1          6     O_1,3\n",
       "3   M2           3          6     O_2,2\n",
       "4   M1           3          5     O_3,1\n",
       "5   M1           6          8     O_1,1\n",
       "6   M3           6         11     O_2,3\n",
       "7   M3          11         13     O_3,3\n",
       "8   M2          13         17     O_3,2"
      ]
     },
     "execution_count": 682,
     "metadata": {},
     "output_type": "execute_result"
    }
   ],
   "source": [
    "df = pd.DataFrame(cur_schedule.gnatt_list)\n",
    "df"
   ]
  },
  {
   "cell_type": "code",
   "execution_count": 707,
   "metadata": {},
   "outputs": [
    {
     "data": {
      "image/png": "[encoded data removed]",
      "text/plain": [
       "<Figure size 1000x1000 with 1 Axes>"
      ]
     },
     "metadata": {},
     "output_type": "display_data"
    }
   ],
   "source": [
    "fig, ax = plt.subplots(1,1, figsize=(10, 10))\n",
    "start_time = 0\n",
    "stop_time = df[\"stop_time\"].max()\n",
    "n_rows = df[\"Task\"].unique().shape[0]\n",
    "color_dict = {i : np.random.randint(0, 256, 3) for i in range(1, n_rows+1)}\n",
    "# Initiate all cells to white (255, 255, 255)\n",
    "image = np.ones((n_rows, int(stop_time), 3), dtype=int) * 255\n",
    "for operation in cur_schedule.gnatt_list:\n",
    "    cur_job = int(operation[\"operation\"][2])\n",
    "    machine_number = int(operation[\"Task\"][-1])-1\n",
    "    image[machine_number][int(operation[\"start_time\"]) : int(operation[\"stop_time\"])][:] = color_dict[cur_job]\n",
    "\n",
    "# Create color patches\n",
    "handlers = []\n",
    "for i, color in color_dict.items():\n",
    "    handlers.append(mpatches.Patch(color=color/255, label=f'$Job\\;{i}$'))\n",
    "\n",
    "box = ax.get_position()\n",
    "ax.set_position([box.x0, box.y0, box.width * 0.8, box.height])\n",
    "\n",
    "# Put a legend to the right of the current axis\n",
    "ax.legend(handles=handlers, loc='center left', bbox_to_anchor=(1, 0.5))\n",
    "\n",
    "ax.set_title(\"Schedule Gantt Chart\")\n",
    "ax.set_yticks([0,1,2])\n",
    "ax.set_yticklabels([\"M1\", \"M2\", \"M3\"])\n",
    "\n",
    "ax.set_xticks([0, 1, 2, 3, 4, 5, 6, 7, 8, 9, 10, 11, 12, 13, 14, 15, 16, 17, 18])\n",
    "\n",
    "ax.imshow(image)\n",
    "#plt.rcParams['axes.autolimit_mode'] = 'round_numbers'\n",
    "plt.show()"
   ]
  },
  {
   "cell_type": "markdown",
   "metadata": {},
   "source": [
    "As can bee seen above, the resultingschedule is not active"
   ]
  },
  {
   "cell_type": "markdown",
   "metadata": {},
   "source": [
    "### References\n",
    "\n",
    "Nakano, R., & Yamada, T. (1991). Conventional Genetic Algorithm for Job Shop Problems. 91, 474–479.\n"
   ]
  }
 ],
 "metadata": {
  "kernelspec": {
   "display_name": ".venv",
   "language": "python",
   "name": "python3"
  },
  "language_info": {
   "codemirror_mode": {
    "name": "ipython",
    "version": 3
   },
   "file_extension": ".py",
   "mimetype": "text/x-python",
   "name": "python",
   "nbconvert_exporter": "python",
   "pygments_lexer": "ipython3",
   "version": "3.9.13"
  }
 },
 "nbformat": 4,
 "nbformat_minor": 2
}
