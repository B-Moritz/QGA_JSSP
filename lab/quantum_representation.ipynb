{
 "cells": [
  {
   "cell_type": "markdown",
   "metadata": {},
   "source": [
    "### Quantum representiatons for JSSP\n",
    "\n",
    "In this notebook different quantum representations are investigated"
   ]
  },
  {
   "cell_type": "code",
   "execution_count": 91,
   "metadata": {},
   "outputs": [],
   "source": [
    "import numpy as np\n",
    "import pdb"
   ]
  },
  {
   "cell_type": "code",
   "execution_count": 92,
   "metadata": {},
   "outputs": [
    {
     "data": {
      "text/plain": [
       "3.0"
      ]
     },
     "execution_count": 92,
     "metadata": {},
     "output_type": "execute_result"
    }
   ],
   "source": [
    "np.random.normal(3, 0)"
   ]
  },
  {
   "cell_type": "code",
   "execution_count": 93,
   "metadata": {},
   "outputs": [],
   "source": [
    "n = 10\n",
    "m = 4"
   ]
  },
  {
   "cell_type": "code",
   "execution_count": 94,
   "metadata": {},
   "outputs": [
    {
     "data": {
      "text/plain": [
       "4"
      ]
     },
     "execution_count": 94,
     "metadata": {},
     "output_type": "execute_result"
    }
   ],
   "source": [
    "int(np.log2(10) + 1)"
   ]
  },
  {
   "cell_type": "code",
   "execution_count": 95,
   "metadata": {},
   "outputs": [],
   "source": [
    "class Q_cromosome:\n",
    "    def __init__(self, n_jobs : int, n_machines : int) -> None:\n",
    "        self.n = n_jobs\n",
    "        self.m = n_machines\n",
    "        self.n_bits = int(np.log2(self.n) + 1)\n",
    "        self.alpha_amplitudes = np.ones(self.n_bits*self.n) * 1/np.sqrt(2)\n",
    "        self.beta_amplitudes = np.ones(self.n_bits*self.n) * 1/np.sqrt(2)\n",
    "        self.length = self.n_bits*self.n\n",
    "        self.measure()\n",
    "        self.convert_permutation()\n",
    "\n",
    "    def measure(self):\n",
    "        cur_needles = np.random.uniform(0, 1, self.length)\n",
    "        self.x = (self.alpha_amplitudes**2 < cur_needles).astype(int) \n",
    "        return self.x\n",
    "    \n",
    "    def convert_permutation(self):\n",
    "        counter = 0\n",
    "        integers = np.empty(self.n, dtype=int)\n",
    "        cur_val = \"\"\n",
    "\n",
    "\n",
    "        for i in range(len(self.x)):\n",
    "            cur_val += str(self.x[i])\n",
    "            if i % self.n_bits == 0 and i != 0:    \n",
    "                integers[counter] = (int(cur_val, 2) % self.n) + 1\n",
    "                counter += 1\n",
    "                cur_val = \"\"\n",
    "\n",
    "        integers[-1] = int(cur_val, 2)\n",
    "        \n",
    "        indexes = []\n",
    "        unique_vals = np.arange(1, self.n+1, dtype=int)\n",
    "\n",
    "        for elem in range(len(integers)):\n",
    "            cur_val = integers[elem]\n",
    "            if unique_vals[cur_val-1] != 0:\n",
    "                unique_vals[cur_val-1] = 0\n",
    "            else:\n",
    "                indexes.append(elem)\n",
    "\n",
    "        index_counter = 0\n",
    "        for elem in unique_vals:\n",
    "            if elem != 0:\n",
    "                integers[indexes[index_counter]] = elem\n",
    "                index_counter += 1\n",
    "\n",
    "        self.permutation = integers\n",
    "        return integers\n",
    "\n",
    "    def rotate(self, b : object):\n",
    "        cur_b = b.x\n",
    "        cur_x = self.x\n",
    "        rotation_angles = np.array([0.2*np.pi, 0, 0.5*np.pi, 0, 0.5*np.pi, 0.5*np.pi, 0, 0.2*np.pi])\n",
    "        signs = np.array([-1, 0, 1, 0, -1, 0, 1, 0])\n",
    "        for i in range(len(cur_x)):\n",
    "            pi = cur_x[i]\n",
    "            bi = cur_b[i]\n",
    "            better = int(True)\n",
    "            index = int(str(pi) + str(bi) + str(better), 2)\n",
    "            cur_sign = self.alpha_amplitudes[i] * self.beta_amplitudes[i]\n",
    "            if cur_sign > 0:\n",
    "                cur_angle = rotation_angles[index] * signs[index]\n",
    "            else:\n",
    "                cur_angle = rotation_angles[index] * signs[index] * -1\n",
    "\n",
    "            # Apply the rotation\n",
    "            new_a = np.cos(cur_angle) - np.sin(cur_angle)\n",
    "            new_b = np.sin(cur_angle) + np.cos(cur_angle)\n",
    "\n",
    "            self.alpha_amplitudes[i] = new_a\n",
    "            self.beta_amplitudes[i] = new_b"
   ]
  },
  {
   "cell_type": "code",
   "execution_count": 96,
   "metadata": {},
   "outputs": [
    {
     "name": "stdout",
     "output_type": "stream",
     "text": [
      "[1 1 1 0 1 1 0 0 1 1 1 0 1 0 1 0 1 0 1 0 1 0 0 0 0 1 1 1 0 0 1 1 1 0 0 1 1\n",
      " 0 0 1]\n"
     ]
    }
   ],
   "source": [
    "cur_cromosome = Q_cromosome(10, 4)\n",
    "b = Q_cromosome(10, 4)\n",
    "print(cur_cromosome.x)"
   ]
  },
  {
   "cell_type": "code",
   "execution_count": 97,
   "metadata": {},
   "outputs": [
    {
     "data": {
      "text/plain": [
       "array([10,  2,  4,  6,  3,  1,  5,  8,  7,  9])"
      ]
     },
     "execution_count": 97,
     "metadata": {},
     "output_type": "execute_result"
    }
   ],
   "source": [
    "cur_cromosome.permutation"
   ]
  },
  {
   "cell_type": "code",
   "execution_count": 100,
   "metadata": {},
   "outputs": [],
   "source": [
    "cur_b = b.x\n",
    "cur_x = cur_cromosome.x\n",
    "rotation_angles = np.array([0.2*np.pi, 0, 0.5*np.pi, 0, 0.5*np.pi, 0.5*np.pi, 0, 0.2*np.pi])\n",
    "signs = np.array([-1, 0, 1, 0, -1, 0, 1, 0])\n",
    "for i in range(len(cur_x)):\n",
    "    pi = cur_x[i]\n",
    "    bi = cur_b[i]\n",
    "    better = int(True)\n",
    "    index = int(str(pi) + str(bi) + str(better), 2)\n",
    "    cur_sign = cur_cromosome.alpha_amplitudes[i] * cur_cromosome.beta_amplitudes[i]\n",
    "    if cur_sign > 0:\n",
    "        cur_angle = rotation_angles[index] * signs[index]\n",
    "    else:\n",
    "        cur_angle = rotation_angles[index] * signs[index] * -1\n",
    "\n",
    "    # Apply the rotation\n",
    "    new_a = np.cos(cur_angle) - np.sin(cur_angle)\n",
    "    new_b = np.sin(cur_angle) + np.cos(cur_angle)\n",
    "\n",
    "    cur_cromosome.alpha_amplitudes[i] = new_a\n",
    "    cur_cromosome.beta_amplitudes[i] = new_b\n",
    "    \n"
   ]
  },
  {
   "cell_type": "code",
   "execution_count": null,
   "metadata": {},
   "outputs": [],
   "source": []
  }
 ],
 "metadata": {
  "kernelspec": {
   "display_name": ".venv",
   "language": "python",
   "name": "python3"
  },
  "language_info": {
   "codemirror_mode": {
    "name": "ipython",
    "version": 3
   },
   "file_extension": ".py",
   "mimetype": "text/x-python",
   "name": "python",
   "nbconvert_exporter": "python",
   "pygments_lexer": "ipython3",
   "version": "3.9.13"
  }
 },
 "nbformat": 4,
 "nbformat_minor": 2
}
